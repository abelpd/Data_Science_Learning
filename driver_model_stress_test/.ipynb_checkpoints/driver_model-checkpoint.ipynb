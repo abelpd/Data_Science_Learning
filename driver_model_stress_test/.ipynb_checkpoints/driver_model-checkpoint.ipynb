{
 "cells": [
  {
   "cell_type": "code",
   "execution_count": 1,
   "metadata": {},
   "outputs": [],
   "source": [
    "from sampler import sample_time, convert_to_minutes, generate_beta_dist\n",
    "from API_KEY import api_key\n",
    "import googlemaps\n",
    "import requests\n",
    "import json\n",
    "import pandas as pd\n",
    "import os\n",
    "import gmplot\n",
    "from datetime import datetime, timedelta\n",
    "import numpy as np\n",
    "import matplotlib.pyplot as plt\n",
    "import seaborn as sns"
   ]
  },
  {
   "cell_type": "code",
   "execution_count": 2,
   "metadata": {},
   "outputs": [],
   "source": [
    "api = api_key()\n",
    "gmaps = googlemaps.Client(key=api_key())"
   ]
  },
  {
   "cell_type": "code",
   "execution_count": 3,
   "metadata": {},
   "outputs": [],
   "source": [
    "beg_time, end_time = convert_to_minutes(12,24)\n",
    "r = generate_beta_dist()\n",
    "num_orders = 100"
   ]
  },
  {
   "cell_type": "code",
   "execution_count": 5,
   "metadata": {},
   "outputs": [
    {
     "data": {
      "text/plain": [
       "<matplotlib.axes._subplots.AxesSubplot at 0x1d1a1689a20>"
      ]
     },
     "execution_count": 5,
     "metadata": {},
     "output_type": "execute_result"
    },
    {
     "data": {
      "image/png": "[encoded data removed]",
      "text/plain": [
       "<Figure size 432x288 with 1 Axes>"
      ]
     },
     "metadata": {},
     "output_type": "display_data"
    }
   ],
   "source": [
    "sns.distplot(r)"
   ]
  },
  {
   "cell_type": "code",
   "execution_count": 291,
   "metadata": {},
   "outputs": [],
   "source": [
    "generate_times = sample_time(beg_time, end_time, r, num_orders)"
   ]
  },
  {
   "cell_type": "code",
   "execution_count": 292,
   "metadata": {},
   "outputs": [
    {
     "name": "stdout",
     "output_type": "stream",
     "text": [
      "720\n"
     ]
    }
   ],
   "source": [
    "generate_times.change_in_time()"
   ]
  },
  {
   "cell_type": "code",
   "execution_count": 293,
   "metadata": {},
   "outputs": [],
   "source": [
    "a = generate_times.create_order_times()"
   ]
  },
  {
   "cell_type": "code",
   "execution_count": 294,
   "metadata": {},
   "outputs": [
    {
     "data": {
      "text/plain": [
       "datetime.datetime(2020, 4, 19, 18, 0)"
      ]
     },
     "execution_count": 294,
     "metadata": {},
     "output_type": "execute_result"
    }
   ],
   "source": [
    "datetime(2020, 4, 19, 12) + timedelta(hours=6)"
   ]
  },
  {
   "cell_type": "code",
   "execution_count": 295,
   "metadata": {},
   "outputs": [],
   "source": [
    "sample_times = np.repeat(datetime(2020, 4, 19, 12), len(a)) + [timedelta(hours=x/60) for x in a]"
   ]
  },
  {
   "cell_type": "code",
   "execution_count": 296,
   "metadata": {},
   "outputs": [],
   "source": [
    "sample_times.sort()"
   ]
  },
  {
   "cell_type": "markdown",
   "metadata": {},
   "source": [
    "##### * Add a variable for bundles (20-30 min)\n",
    "##### * Add a variable for $4 delivery"
   ]
  },
  {
   "cell_type": "code",
   "execution_count": 297,
   "metadata": {},
   "outputs": [
    {
     "data": {
      "text/plain": [
       "array([datetime.datetime(2020, 4, 19, 13, 49, 53, 678514),\n",
       "       datetime.datetime(2020, 4, 19, 14, 6, 46, 496420),\n",
       "       datetime.datetime(2020, 4, 19, 14, 22, 30, 844216),\n",
       "       datetime.datetime(2020, 4, 19, 14, 30, 55, 364998),\n",
       "       datetime.datetime(2020, 4, 19, 14, 42, 18, 217743),\n",
       "       datetime.datetime(2020, 4, 19, 14, 56, 0, 398769),\n",
       "       datetime.datetime(2020, 4, 19, 15, 1, 3, 713526),\n",
       "       datetime.datetime(2020, 4, 19, 15, 2, 51, 56252),\n",
       "       datetime.datetime(2020, 4, 19, 15, 6, 44, 457761),\n",
       "       datetime.datetime(2020, 4, 19, 15, 8, 6, 690358),\n",
       "       datetime.datetime(2020, 4, 19, 15, 8, 17, 723249),\n",
       "       datetime.datetime(2020, 4, 19, 15, 9, 49, 17832),\n",
       "       datetime.datetime(2020, 4, 19, 15, 10, 3, 109764),\n",
       "       datetime.datetime(2020, 4, 19, 15, 12, 7, 262831),\n",
       "       datetime.datetime(2020, 4, 19, 15, 21, 12, 69843),\n",
       "       datetime.datetime(2020, 4, 19, 15, 24, 49, 177419),\n",
       "       datetime.datetime(2020, 4, 19, 15, 27, 29, 348070),\n",
       "       datetime.datetime(2020, 4, 19, 15, 37, 0, 368885),\n",
       "       datetime.datetime(2020, 4, 19, 15, 54, 34, 429879),\n",
       "       datetime.datetime(2020, 4, 19, 15, 58, 57, 519199),\n",
       "       datetime.datetime(2020, 4, 19, 16, 0, 51, 769157),\n",
       "       datetime.datetime(2020, 4, 19, 16, 0, 58, 327548),\n",
       "       datetime.datetime(2020, 4, 19, 16, 12, 8, 309629),\n",
       "       datetime.datetime(2020, 4, 19, 16, 23, 43, 594359),\n",
       "       datetime.datetime(2020, 4, 19, 16, 31, 19, 995923),\n",
       "       datetime.datetime(2020, 4, 19, 16, 32, 4, 720809),\n",
       "       datetime.datetime(2020, 4, 19, 16, 35, 31, 490614),\n",
       "       datetime.datetime(2020, 4, 19, 16, 46, 18, 151926),\n",
       "       datetime.datetime(2020, 4, 19, 16, 53, 20, 270532),\n",
       "       datetime.datetime(2020, 4, 19, 17, 0, 30, 354349),\n",
       "       datetime.datetime(2020, 4, 19, 17, 5, 52, 636470),\n",
       "       datetime.datetime(2020, 4, 19, 17, 10, 12, 762802),\n",
       "       datetime.datetime(2020, 4, 19, 17, 11, 20, 781851),\n",
       "       datetime.datetime(2020, 4, 19, 17, 15, 51, 254864),\n",
       "       datetime.datetime(2020, 4, 19, 17, 18, 17, 227741),\n",
       "       datetime.datetime(2020, 4, 19, 17, 23, 28, 230669),\n",
       "       datetime.datetime(2020, 4, 19, 17, 26, 39, 155961),\n",
       "       datetime.datetime(2020, 4, 19, 17, 27, 13, 993912),\n",
       "       datetime.datetime(2020, 4, 19, 17, 28, 52, 646876),\n",
       "       datetime.datetime(2020, 4, 19, 17, 29, 33, 220698),\n",
       "       datetime.datetime(2020, 4, 19, 17, 30, 16, 773221),\n",
       "       datetime.datetime(2020, 4, 19, 17, 32, 6, 447285),\n",
       "       datetime.datetime(2020, 4, 19, 17, 38, 39, 261893),\n",
       "       datetime.datetime(2020, 4, 19, 17, 41, 15, 44998),\n",
       "       datetime.datetime(2020, 4, 19, 17, 41, 26, 579470),\n",
       "       datetime.datetime(2020, 4, 19, 17, 49, 33, 647315),\n",
       "       datetime.datetime(2020, 4, 19, 17, 54, 18, 9065),\n",
       "       datetime.datetime(2020, 4, 19, 17, 55, 40, 376440),\n",
       "       datetime.datetime(2020, 4, 19, 17, 56, 38, 664264),\n",
       "       datetime.datetime(2020, 4, 19, 17, 58, 50, 42541),\n",
       "       datetime.datetime(2020, 4, 19, 17, 59, 49, 379813),\n",
       "       datetime.datetime(2020, 4, 19, 18, 20, 41, 914615),\n",
       "       datetime.datetime(2020, 4, 19, 18, 23, 7, 77693),\n",
       "       datetime.datetime(2020, 4, 19, 18, 23, 48, 645941),\n",
       "       datetime.datetime(2020, 4, 19, 18, 25, 34, 756945),\n",
       "       datetime.datetime(2020, 4, 19, 18, 29, 39, 457599),\n",
       "       datetime.datetime(2020, 4, 19, 18, 30, 49, 466736),\n",
       "       datetime.datetime(2020, 4, 19, 18, 33, 12, 807775),\n",
       "       datetime.datetime(2020, 4, 19, 18, 36, 8, 271242),\n",
       "       datetime.datetime(2020, 4, 19, 18, 36, 41, 83062),\n",
       "       datetime.datetime(2020, 4, 19, 18, 37, 1, 909642),\n",
       "       datetime.datetime(2020, 4, 19, 18, 38, 15, 805767),\n",
       "       datetime.datetime(2020, 4, 19, 18, 39, 33, 592371),\n",
       "       datetime.datetime(2020, 4, 19, 18, 46, 55, 432002),\n",
       "       datetime.datetime(2020, 4, 19, 18, 47, 37, 215282),\n",
       "       datetime.datetime(2020, 4, 19, 18, 49, 20, 720573),\n",
       "       datetime.datetime(2020, 4, 19, 18, 49, 50, 726363),\n",
       "       datetime.datetime(2020, 4, 19, 18, 55, 19, 335021),\n",
       "       datetime.datetime(2020, 4, 19, 19, 1, 49, 647619),\n",
       "       datetime.datetime(2020, 4, 19, 19, 2, 14, 576213),\n",
       "       datetime.datetime(2020, 4, 19, 19, 5, 54, 158245),\n",
       "       datetime.datetime(2020, 4, 19, 19, 7, 48, 803008),\n",
       "       datetime.datetime(2020, 4, 19, 19, 18, 35, 836500),\n",
       "       datetime.datetime(2020, 4, 19, 19, 19, 4, 524907),\n",
       "       datetime.datetime(2020, 4, 19, 19, 28, 47, 468618),\n",
       "       datetime.datetime(2020, 4, 19, 19, 28, 47, 619886),\n",
       "       datetime.datetime(2020, 4, 19, 19, 34, 0, 954374),\n",
       "       datetime.datetime(2020, 4, 19, 19, 35, 54, 59525),\n",
       "       datetime.datetime(2020, 4, 19, 19, 37, 2, 180098),\n",
       "       datetime.datetime(2020, 4, 19, 19, 37, 26, 23348),\n",
       "       datetime.datetime(2020, 4, 19, 19, 43, 2, 671030),\n",
       "       datetime.datetime(2020, 4, 19, 19, 43, 44, 728141),\n",
       "       datetime.datetime(2020, 4, 19, 19, 52, 31, 352175),\n",
       "       datetime.datetime(2020, 4, 19, 19, 57, 50, 862293),\n",
       "       datetime.datetime(2020, 4, 19, 20, 6, 18, 792535),\n",
       "       datetime.datetime(2020, 4, 19, 20, 11, 43, 428514),\n",
       "       datetime.datetime(2020, 4, 19, 20, 16, 3, 674495),\n",
       "       datetime.datetime(2020, 4, 19, 20, 18, 38, 541750),\n",
       "       datetime.datetime(2020, 4, 19, 20, 19, 26, 949201),\n",
       "       datetime.datetime(2020, 4, 19, 20, 28, 31, 923008),\n",
       "       datetime.datetime(2020, 4, 19, 20, 37, 28, 447029),\n",
       "       datetime.datetime(2020, 4, 19, 20, 41, 26, 636525),\n",
       "       datetime.datetime(2020, 4, 19, 20, 46, 47, 511181),\n",
       "       datetime.datetime(2020, 4, 19, 20, 54, 22, 175576),\n",
       "       datetime.datetime(2020, 4, 19, 21, 9, 58, 54618),\n",
       "       datetime.datetime(2020, 4, 19, 21, 21, 52, 3966),\n",
       "       datetime.datetime(2020, 4, 19, 21, 27, 0, 92067),\n",
       "       datetime.datetime(2020, 4, 19, 21, 44, 6, 734676),\n",
       "       datetime.datetime(2020, 4, 19, 22, 6, 47, 613708),\n",
       "       datetime.datetime(2020, 4, 19, 22, 17, 6, 498511)], dtype=object)"
      ]
     },
     "execution_count": 297,
     "metadata": {},
     "output_type": "execute_result"
    }
   ],
   "source": [
    "sample_times"
   ]
  },
  {
   "cell_type": "code",
   "execution_count": 11,
   "metadata": {},
   "outputs": [],
   "source": [
    "location_ = os.getcwd() + '\\\\address_data\\\\ca\\\\ab\\\\city_of_red_deer.csv'"
   ]
  },
  {
   "cell_type": "code",
   "execution_count": 12,
   "metadata": {},
   "outputs": [],
   "source": [
    "rd = pd.read_csv(location_)"
   ]
  },
  {
   "cell_type": "code",
   "execution_count": 13,
   "metadata": {},
   "outputs": [
    {
     "data": {
      "text/html": [
       "<div>\n",
       "<style scoped>\n",
       "    .dataframe tbody tr th:only-of-type {\n",
       "        vertical-align: middle;\n",
       "    }\n",
       "\n",
       "    .dataframe tbody tr th {\n",
       "        vertical-align: top;\n",
       "    }\n",
       "\n",
       "    .dataframe thead th {\n",
       "        text-align: right;\n",
       "    }\n",
       "</style>\n",
       "<table border=\"1\" class=\"dataframe\">\n",
       "  <thead>\n",
       "    <tr style=\"text-align: right;\">\n",
       "      <th></th>\n",
       "      <th>LON</th>\n",
       "      <th>LAT</th>\n",
       "      <th>NUMBER</th>\n",
       "      <th>STREET</th>\n",
       "      <th>UNIT</th>\n",
       "      <th>CITY</th>\n",
       "      <th>DISTRICT</th>\n",
       "      <th>REGION</th>\n",
       "      <th>POSTCODE</th>\n",
       "      <th>ID</th>\n",
       "      <th>HASH</th>\n",
       "    </tr>\n",
       "  </thead>\n",
       "  <tbody>\n",
       "    <tr>\n",
       "      <th>0</th>\n",
       "      <td>-113.769562</td>\n",
       "      <td>52.244131</td>\n",
       "      <td>1</td>\n",
       "      <td>ABEL CL</td>\n",
       "      <td>NaN</td>\n",
       "      <td>NaN</td>\n",
       "      <td>NaN</td>\n",
       "      <td>NaN</td>\n",
       "      <td>NaN</td>\n",
       "      <td>NaN</td>\n",
       "      <td>337be5934703dd63</td>\n",
       "    </tr>\n",
       "    <tr>\n",
       "      <th>1</th>\n",
       "      <td>-113.783018</td>\n",
       "      <td>52.242337</td>\n",
       "      <td>1</td>\n",
       "      <td>AINSWORTH CR</td>\n",
       "      <td>NaN</td>\n",
       "      <td>NaN</td>\n",
       "      <td>NaN</td>\n",
       "      <td>NaN</td>\n",
       "      <td>NaN</td>\n",
       "      <td>NaN</td>\n",
       "      <td>663543b88ab20de2</td>\n",
       "    </tr>\n",
       "    <tr>\n",
       "      <th>2</th>\n",
       "      <td>-113.771100</td>\n",
       "      <td>52.249808</td>\n",
       "      <td>1</td>\n",
       "      <td>ALEXANDER CR</td>\n",
       "      <td>NaN</td>\n",
       "      <td>NaN</td>\n",
       "      <td>NaN</td>\n",
       "      <td>NaN</td>\n",
       "      <td>NaN</td>\n",
       "      <td>NaN</td>\n",
       "      <td>158228bbdb9cbbac</td>\n",
       "    </tr>\n",
       "    <tr>\n",
       "      <th>3</th>\n",
       "      <td>-113.789997</td>\n",
       "      <td>52.247050</td>\n",
       "      <td>1</td>\n",
       "      <td>ALLAN ST</td>\n",
       "      <td>NaN</td>\n",
       "      <td>NaN</td>\n",
       "      <td>NaN</td>\n",
       "      <td>NaN</td>\n",
       "      <td>NaN</td>\n",
       "      <td>NaN</td>\n",
       "      <td>c8c24953c455462f</td>\n",
       "    </tr>\n",
       "    <tr>\n",
       "      <th>4</th>\n",
       "      <td>-113.785442</td>\n",
       "      <td>52.244930</td>\n",
       "      <td>1</td>\n",
       "      <td>ALLSOP AV</td>\n",
       "      <td>NaN</td>\n",
       "      <td>NaN</td>\n",
       "      <td>NaN</td>\n",
       "      <td>NaN</td>\n",
       "      <td>NaN</td>\n",
       "      <td>NaN</td>\n",
       "      <td>b011678dae9236b5</td>\n",
       "    </tr>\n",
       "    <tr>\n",
       "      <th>...</th>\n",
       "      <td>...</td>\n",
       "      <td>...</td>\n",
       "      <td>...</td>\n",
       "      <td>...</td>\n",
       "      <td>...</td>\n",
       "      <td>...</td>\n",
       "      <td>...</td>\n",
       "      <td>...</td>\n",
       "      <td>...</td>\n",
       "      <td>...</td>\n",
       "      <td>...</td>\n",
       "    </tr>\n",
       "    <tr>\n",
       "      <th>55065</th>\n",
       "      <td>-113.808717</td>\n",
       "      <td>52.264765</td>\n",
       "      <td>4501</td>\n",
       "      <td>48 AV</td>\n",
       "      <td>610</td>\n",
       "      <td>NaN</td>\n",
       "      <td>NaN</td>\n",
       "      <td>NaN</td>\n",
       "      <td>NaN</td>\n",
       "      <td>NaN</td>\n",
       "      <td>de5ffc7478b7bc2e</td>\n",
       "    </tr>\n",
       "    <tr>\n",
       "      <th>55066</th>\n",
       "      <td>-113.808725</td>\n",
       "      <td>52.264958</td>\n",
       "      <td>4501</td>\n",
       "      <td>48 AV</td>\n",
       "      <td>613</td>\n",
       "      <td>NaN</td>\n",
       "      <td>NaN</td>\n",
       "      <td>NaN</td>\n",
       "      <td>NaN</td>\n",
       "      <td>NaN</td>\n",
       "      <td>8cf4dcbdbf3beb01</td>\n",
       "    </tr>\n",
       "    <tr>\n",
       "      <th>55067</th>\n",
       "      <td>-113.808729</td>\n",
       "      <td>52.265041</td>\n",
       "      <td>4501</td>\n",
       "      <td>48 AV</td>\n",
       "      <td>614</td>\n",
       "      <td>NaN</td>\n",
       "      <td>NaN</td>\n",
       "      <td>NaN</td>\n",
       "      <td>NaN</td>\n",
       "      <td>NaN</td>\n",
       "      <td>fe682c3c179d1937</td>\n",
       "    </tr>\n",
       "    <tr>\n",
       "      <th>55068</th>\n",
       "      <td>-113.808483</td>\n",
       "      <td>52.265046</td>\n",
       "      <td>4501</td>\n",
       "      <td>48 AV</td>\n",
       "      <td>615</td>\n",
       "      <td>NaN</td>\n",
       "      <td>NaN</td>\n",
       "      <td>NaN</td>\n",
       "      <td>NaN</td>\n",
       "      <td>NaN</td>\n",
       "      <td>3951807fc70b91cf</td>\n",
       "    </tr>\n",
       "    <tr>\n",
       "      <th>55069</th>\n",
       "      <td>-113.808488</td>\n",
       "      <td>52.264970</td>\n",
       "      <td>4501</td>\n",
       "      <td>48 AV</td>\n",
       "      <td>616</td>\n",
       "      <td>NaN</td>\n",
       "      <td>NaN</td>\n",
       "      <td>NaN</td>\n",
       "      <td>NaN</td>\n",
       "      <td>NaN</td>\n",
       "      <td>2677e71a5b600e83</td>\n",
       "    </tr>\n",
       "  </tbody>\n",
       "</table>\n",
       "<p>55070 rows × 11 columns</p>\n",
       "</div>"
      ],
      "text/plain": [
       "              LON        LAT NUMBER        STREET UNIT  CITY  DISTRICT  \\\n",
       "0     -113.769562  52.244131      1       ABEL CL  NaN   NaN       NaN   \n",
       "1     -113.783018  52.242337      1  AINSWORTH CR  NaN   NaN       NaN   \n",
       "2     -113.771100  52.249808      1  ALEXANDER CR  NaN   NaN       NaN   \n",
       "3     -113.789997  52.247050      1      ALLAN ST  NaN   NaN       NaN   \n",
       "4     -113.785442  52.244930      1     ALLSOP AV  NaN   NaN       NaN   \n",
       "...           ...        ...    ...           ...  ...   ...       ...   \n",
       "55065 -113.808717  52.264765   4501         48 AV  610   NaN       NaN   \n",
       "55066 -113.808725  52.264958   4501         48 AV  613   NaN       NaN   \n",
       "55067 -113.808729  52.265041   4501         48 AV  614   NaN       NaN   \n",
       "55068 -113.808483  52.265046   4501         48 AV  615   NaN       NaN   \n",
       "55069 -113.808488  52.264970   4501         48 AV  616   NaN       NaN   \n",
       "\n",
       "       REGION  POSTCODE  ID              HASH  \n",
       "0         NaN       NaN NaN  337be5934703dd63  \n",
       "1         NaN       NaN NaN  663543b88ab20de2  \n",
       "2         NaN       NaN NaN  158228bbdb9cbbac  \n",
       "3         NaN       NaN NaN  c8c24953c455462f  \n",
       "4         NaN       NaN NaN  b011678dae9236b5  \n",
       "...       ...       ...  ..               ...  \n",
       "55065     NaN       NaN NaN  de5ffc7478b7bc2e  \n",
       "55066     NaN       NaN NaN  8cf4dcbdbf3beb01  \n",
       "55067     NaN       NaN NaN  fe682c3c179d1937  \n",
       "55068     NaN       NaN NaN  3951807fc70b91cf  \n",
       "55069     NaN       NaN NaN  2677e71a5b600e83  \n",
       "\n",
       "[55070 rows x 11 columns]"
      ]
     },
     "execution_count": 13,
     "metadata": {},
     "output_type": "execute_result"
    }
   ],
   "source": [
    "rd"
   ]
  },
  {
   "cell_type": "code",
   "execution_count": 14,
   "metadata": {},
   "outputs": [],
   "source": [
    "test_directions = gmaps.distance_matrix(origins=(52.283877, -113.807013), destinations=[(52.285842,-113.7686521),(52.265046,-113.808483)], mode='driving')"
   ]
  },
  {
   "cell_type": "code",
   "execution_count": 15,
   "metadata": {},
   "outputs": [
    {
     "data": {
      "text/plain": [
       "{'destination_addresses': ['5 Clearview Market Way, Red Deer, AB T4P 0M9, Canada',\n",
       "  '4515 48 Ave, Red Deer, AB T4N 3S7, Canada'],\n",
       " 'origin_addresses': ['4657 62 St, Red Deer, AB T4N 2R4, Canada'],\n",
       " 'rows': [{'elements': [{'distance': {'text': '3.8 km', 'value': 3825},\n",
       "     'duration': {'text': '6 mins', 'value': 354},\n",
       "     'status': 'OK'},\n",
       "    {'distance': {'text': '3.4 km', 'value': 3427},\n",
       "     'duration': {'text': '8 mins', 'value': 474},\n",
       "     'status': 'OK'}]}],\n",
       " 'status': 'OK'}"
      ]
     },
     "execution_count": 15,
     "metadata": {},
     "output_type": "execute_result"
    }
   ],
   "source": [
    "test_directions"
   ]
  },
  {
   "cell_type": "code",
   "execution_count": 16,
   "metadata": {},
   "outputs": [
    {
     "data": {
      "text/html": [
       "<div>\n",
       "<style scoped>\n",
       "    .dataframe tbody tr th:only-of-type {\n",
       "        vertical-align: middle;\n",
       "    }\n",
       "\n",
       "    .dataframe tbody tr th {\n",
       "        vertical-align: top;\n",
       "    }\n",
       "\n",
       "    .dataframe thead th {\n",
       "        text-align: right;\n",
       "    }\n",
       "</style>\n",
       "<table border=\"1\" class=\"dataframe\">\n",
       "  <thead>\n",
       "    <tr style=\"text-align: right;\">\n",
       "      <th></th>\n",
       "      <th>LON</th>\n",
       "      <th>LAT</th>\n",
       "    </tr>\n",
       "  </thead>\n",
       "  <tbody>\n",
       "    <tr>\n",
       "      <th>32524</th>\n",
       "      <td>-113.805340</td>\n",
       "      <td>52.273135</td>\n",
       "    </tr>\n",
       "    <tr>\n",
       "      <th>25899</th>\n",
       "      <td>-113.767140</td>\n",
       "      <td>52.273218</td>\n",
       "    </tr>\n",
       "    <tr>\n",
       "      <th>51097</th>\n",
       "      <td>-113.779708</td>\n",
       "      <td>52.262448</td>\n",
       "    </tr>\n",
       "    <tr>\n",
       "      <th>50721</th>\n",
       "      <td>-113.815100</td>\n",
       "      <td>52.280722</td>\n",
       "    </tr>\n",
       "    <tr>\n",
       "      <th>38095</th>\n",
       "      <td>-113.780928</td>\n",
       "      <td>52.232924</td>\n",
       "    </tr>\n",
       "    <tr>\n",
       "      <th>...</th>\n",
       "      <td>...</td>\n",
       "      <td>...</td>\n",
       "    </tr>\n",
       "    <tr>\n",
       "      <th>51</th>\n",
       "      <td>-113.832218</td>\n",
       "      <td>52.308101</td>\n",
       "    </tr>\n",
       "    <tr>\n",
       "      <th>46943</th>\n",
       "      <td>-113.806156</td>\n",
       "      <td>52.268722</td>\n",
       "    </tr>\n",
       "    <tr>\n",
       "      <th>36528</th>\n",
       "      <td>-113.827632</td>\n",
       "      <td>52.261535</td>\n",
       "    </tr>\n",
       "    <tr>\n",
       "      <th>2724</th>\n",
       "      <td>-113.771779</td>\n",
       "      <td>52.262434</td>\n",
       "    </tr>\n",
       "    <tr>\n",
       "      <th>11375</th>\n",
       "      <td>-113.816181</td>\n",
       "      <td>52.261013</td>\n",
       "    </tr>\n",
       "  </tbody>\n",
       "</table>\n",
       "<p>100 rows × 2 columns</p>\n",
       "</div>"
      ],
      "text/plain": [
       "              LON        LAT\n",
       "32524 -113.805340  52.273135\n",
       "25899 -113.767140  52.273218\n",
       "51097 -113.779708  52.262448\n",
       "50721 -113.815100  52.280722\n",
       "38095 -113.780928  52.232924\n",
       "...           ...        ...\n",
       "51    -113.832218  52.308101\n",
       "46943 -113.806156  52.268722\n",
       "36528 -113.827632  52.261535\n",
       "2724  -113.771779  52.262434\n",
       "11375 -113.816181  52.261013\n",
       "\n",
       "[100 rows x 2 columns]"
      ]
     },
     "execution_count": 16,
     "metadata": {},
     "output_type": "execute_result"
    }
   ],
   "source": [
    "rd[['LON', 'LAT']].sample(n=100)"
   ]
  },
  {
   "cell_type": "code",
   "execution_count": 17,
   "metadata": {},
   "outputs": [
    {
     "name": "stdout",
     "output_type": "stream",
     "text": [
      "Taking order - 5.8km away - 12 minutes\n"
     ]
    }
   ],
   "source": [
    "print ('Taking order - 5.8km away - 12 minutes')"
   ]
  },
  {
   "cell_type": "code",
   "execution_count": 18,
   "metadata": {},
   "outputs": [
    {
     "data": {
      "text/plain": [
       "array([datetime.datetime(2020, 4, 19, 13, 18, 5, 203053),\n",
       "       datetime.datetime(2020, 4, 19, 14, 35, 44, 385349),\n",
       "       datetime.datetime(2020, 4, 19, 14, 39, 25, 29467)], dtype=object)"
      ]
     },
     "execution_count": 18,
     "metadata": {},
     "output_type": "execute_result"
    }
   ],
   "source": [
    "sample_times[0:3]"
   ]
  },
  {
   "cell_type": "code",
   "execution_count": 19,
   "metadata": {},
   "outputs": [],
   "source": [
    "def generate_bundle(bundle, counter):\n",
    "    print (2)"
   ]
  },
  {
   "cell_type": "code",
   "execution_count": 20,
   "metadata": {},
   "outputs": [
    {
     "name": "stdout",
     "output_type": "stream",
     "text": [
      "2020-04-19 13:18:05.203053\n",
      "2020-04-19 14:35:44.385349\n"
     ]
    }
   ],
   "source": [
    "print (sample_times[0])\n",
    "print (sample_times[1])"
   ]
  },
  {
   "cell_type": "code",
   "execution_count": 21,
   "metadata": {},
   "outputs": [
    {
     "data": {
      "text/plain": [
       "datetime.timedelta(0, 4659, 182296)"
      ]
     },
     "execution_count": 21,
     "metadata": {},
     "output_type": "execute_result"
    }
   ],
   "source": [
    "sample_times[1] - sample_times[0]"
   ]
  },
  {
   "cell_type": "code",
   "execution_count": 22,
   "metadata": {},
   "outputs": [
    {
     "data": {
      "text/plain": [
       "77.65"
      ]
     },
     "execution_count": 22,
     "metadata": {},
     "output_type": "execute_result"
    }
   ],
   "source": [
    "t = sample_times[1] - sample_times[0]\n",
    "t.seconds / 60"
   ]
  },
  {
   "cell_type": "code",
   "execution_count": 373,
   "metadata": {},
   "outputs": [],
   "source": [
    "test_order_times = sample_times[0:3]"
   ]
  },
  {
   "cell_type": "code",
   "execution_count": 375,
   "metadata": {},
   "outputs": [
    {
     "data": {
      "text/plain": [
       "array([datetime.datetime(2020, 4, 19, 13, 49, 53, 678514),\n",
       "       datetime.datetime(2020, 4, 19, 14, 6, 46, 496420),\n",
       "       datetime.datetime(2020, 4, 19, 14, 22, 30, 844216)], dtype=object)"
      ]
     },
     "execution_count": 375,
     "metadata": {},
     "output_type": "execute_result"
    }
   ],
   "source": [
    "test_order_times"
   ]
  },
  {
   "cell_type": "code",
   "execution_count": 541,
   "metadata": {},
   "outputs": [],
   "source": [
    "def sample_address(n, rd):\n",
    "    address_sample = rd[['LAT', 'LON']].sample(n=n)\n",
    "    address_sample = [tuple(x) for x in address_sample.values]\n",
    "    return address_sample\n",
    "\n",
    "def generate_payload(current_bundle):\n",
    "    locations_ = sample_address(len(current_bundle), rd)\n",
    "    google_output = gmaps.distance_matrix(origins=(52.283877, -113.807013), destinations=locations_, mode='driving')\n",
    "    return google_output\n",
    "\n",
    "def sla_evaluation(current_bundle, directions, bundle_time, met_sla, distance, order_time):\n",
    "    \n",
    "    if len(current_bundle) == 3:\n",
    "        leave_time = current_bundle[2]\n",
    "    else:\n",
    "        leave_time = current_bundle[0] + timedelta(minutes=bundle_time)\n",
    "    \n",
    "    print ('Last Order Time: {}'.format(leave_time))\n",
    "    time_eval = leave_time + timedelta(minutes=5)\n",
    "    print ('Adjusted for time given to driver to pick up order: {}'.format(time_eval))\n",
    "    print ('------------------------------------------------')\n",
    "    \n",
    "    for i in range(len(current_bundle)):\n",
    "        \n",
    "        transaction_buffer = 0\n",
    "        \n",
    "        if i > 0:\n",
    "            transaction_buffer = 3\n",
    "\n",
    "        time_eval = time_eval + timedelta(minutes=(directions['rows'][0]['elements'][i]['duration']['value']/60+transaction_buffer))\n",
    "        distance.append(directions['rows'][0]['elements'][i]['distance']['value'])\n",
    "        \n",
    "        print (time_eval)\n",
    "        \n",
    "        if ((time_eval - current_bundle[i]) < timedelta(minutes=60)):\n",
    "            met_sla+=1\n",
    "        \n",
    "        order_time.append(round((time_eval - current_bundle[i]).seconds / 60,2))\n",
    "        \n",
    "    return met_sla, distance, order_time"
   ]
  },
  {
   "cell_type": "code",
   "execution_count": 546,
   "metadata": {},
   "outputs": [
    {
     "data": {
      "text/plain": [
       "datetime.datetime(2020, 4, 19, 13, 49, 54, 678514)"
      ]
     },
     "execution_count": 546,
     "metadata": {},
     "output_type": "execute_result"
    }
   ],
   "source": [
    "test_order_times[0] + timedelta(seconds=1)"
   ]
  },
  {
   "cell_type": "code",
   "execution_count": 542,
   "metadata": {},
   "outputs": [
    {
     "name": "stdout",
     "output_type": "stream",
     "text": [
      "Last Order Time: 2020-04-19 14:22:30.844216\n",
      "Adjusted for time given to driver to pick up order: 2020-04-19 14:27:30.844216\n",
      "------------------------------------------------\n",
      "2020-04-19 14:34:00.844216\n",
      "2020-04-19 14:45:14.844216\n",
      "2020-04-19 14:57:13.844216\n"
     ]
    }
   ],
   "source": [
    "m = sla_evaluation(test_order_times, test, 25, 0, [],[])"
   ]
  },
  {
   "cell_type": "code",
   "execution_count": 543,
   "metadata": {},
   "outputs": [
    {
     "name": "stdout",
     "output_type": "stream",
     "text": [
      "2020-04-19 14:22:30.844216\n",
      "2020-04-19 14:47:30.844216\n"
     ]
    }
   ],
   "source": [
    "print (test_order_times[2])\n",
    "print (test_order_times[2] + timedelta(minutes=25))"
   ]
  },
  {
   "cell_type": "code",
   "execution_count": 574,
   "metadata": {},
   "outputs": [],
   "source": [
    "def run_simulation(num_orders, rd, sample_times, max_bundle, bundle_time):\n",
    "    \n",
    "    order = 0\n",
    "    \n",
    "    time_to_get_to_warehouse = 5\n",
    "    \n",
    "    distance = []\n",
    "    order_time = []\n",
    "    \n",
    "    met_sla = 0\n",
    "    \n",
    "    bundle_size = []\n",
    "    \n",
    "    while order < num_orders - 1:\n",
    "        \n",
    "        print ('order {}'.format(order))\n",
    "        \n",
    "        if order == num_orders - 1:\n",
    "            current_bundle = []\n",
    "            current_bundle.append(sample_times[order])\n",
    "            break\n",
    "            \n",
    "        else:\n",
    "            current_bundle = []\n",
    "            current_bundle.append(sample_times[order])\n",
    "\n",
    "            first_order = sample_times[order]\n",
    "\n",
    "\n",
    "            try:\n",
    "                while (sample_times[order+1] - first_order).seconds / 60 < bundle_time and order < num_orders - 1:\n",
    "                    current_bundle.append(sample_times[order + 1])\n",
    "                    order += 1\n",
    "\n",
    "                    print ('bundle size: {}'.format(len(current_bundle)))\n",
    "\n",
    "                    if order == num_orders:\n",
    "                        break\n",
    "\n",
    "                    if len(current_bundle) == max_bundle:\n",
    "                        break\n",
    "            except:\n",
    "                print (order)\n",
    "                print ('ya this broke {}'.format(order))\n",
    "        \n",
    "        bundle_size.append(len(current_bundle))\n",
    "\n",
    "        google_output = generate_payload(current_bundle)\n",
    "        met_sla, distance, order_time = sla_evaluation(current_bundle, google_output, bundle_time, met_sla, distance, order_time)\n",
    "        \n",
    "        order += 1\n",
    "    \n",
    "    return bundle_size, met_sla, distance, order_time"
   ]
  },
  {
   "cell_type": "code",
   "execution_count": 636,
   "metadata": {},
   "outputs": [
    {
     "name": "stdout",
     "output_type": "stream",
     "text": [
      "order 0\n",
      "bundle size: 2\n",
      "Last Order Time: 2020-04-19 14:14:53.678514\n",
      "Adjusted for time given to driver to pick up order: 2020-04-19 14:19:53.678514\n",
      "------------------------------------------------\n",
      "2020-04-19 14:26:31.678514\n",
      "2020-04-19 14:44:29.678514\n",
      "order 2\n",
      "bundle size: 2\n",
      "bundle size: 3\n",
      "Last Order Time: 2020-04-19 14:42:18.217743\n",
      "Adjusted for time given to driver to pick up order: 2020-04-19 14:47:18.217743\n",
      "------------------------------------------------\n",
      "2020-04-19 14:55:11.217743\n",
      "2020-04-19 15:05:34.217743\n",
      "2020-04-19 15:16:42.217743\n",
      "order 5\n",
      "bundle size: 2\n",
      "bundle size: 3\n",
      "Last Order Time: 2020-04-19 15:02:51.056252\n",
      "Adjusted for time given to driver to pick up order: 2020-04-19 15:07:51.056252\n",
      "------------------------------------------------\n",
      "2020-04-19 15:12:40.056252\n",
      "2020-04-19 15:24:54.056252\n",
      "2020-04-19 15:35:55.056252\n",
      "order 8\n",
      "bundle size: 2\n",
      "bundle size: 3\n",
      "Last Order Time: 2020-04-19 15:08:17.723249\n",
      "Adjusted for time given to driver to pick up order: 2020-04-19 15:13:17.723249\n",
      "------------------------------------------------\n",
      "2020-04-19 15:20:53.723249\n",
      "2020-04-19 15:34:35.723249\n",
      "2020-04-19 15:51:07.723249\n",
      "order 11\n",
      "bundle size: 2\n",
      "bundle size: 3\n",
      "Last Order Time: 2020-04-19 15:12:07.262831\n",
      "Adjusted for time given to driver to pick up order: 2020-04-19 15:17:07.262831\n",
      "------------------------------------------------\n",
      "2020-04-19 15:30:08.262831\n",
      "2020-04-19 15:47:06.262831\n",
      "2020-04-19 16:00:38.262831\n",
      "order 14\n",
      "bundle size: 2\n",
      "bundle size: 3\n",
      "Last Order Time: 2020-04-19 15:27:29.348070\n",
      "Adjusted for time given to driver to pick up order: 2020-04-19 15:32:29.348070\n",
      "------------------------------------------------\n",
      "2020-04-19 15:38:13.348070\n",
      "2020-04-19 15:53:13.348070\n",
      "2020-04-19 16:00:49.348070\n",
      "order 17\n",
      "bundle size: 2\n",
      "bundle size: 3\n",
      "Last Order Time: 2020-04-19 15:58:57.519199\n",
      "Adjusted for time given to driver to pick up order: 2020-04-19 16:03:57.519199\n",
      "------------------------------------------------\n",
      "2020-04-19 16:08:15.519199\n",
      "2020-04-19 16:21:05.519199\n",
      "2020-04-19 16:31:09.519199\n",
      "order 20\n",
      "bundle size: 2\n",
      "bundle size: 3\n",
      "Last Order Time: 2020-04-19 16:12:08.309629\n",
      "Adjusted for time given to driver to pick up order: 2020-04-19 16:17:08.309629\n",
      "------------------------------------------------\n",
      "2020-04-19 16:26:54.309629\n",
      "2020-04-19 16:39:52.309629\n",
      "2020-04-19 16:56:19.309629\n",
      "order 23\n",
      "bundle size: 2\n",
      "bundle size: 3\n",
      "Last Order Time: 2020-04-19 16:32:04.720809\n",
      "Adjusted for time given to driver to pick up order: 2020-04-19 16:37:04.720809\n",
      "------------------------------------------------\n",
      "2020-04-19 16:44:54.720809\n",
      "2020-04-19 16:57:19.720809\n",
      "2020-04-19 17:12:32.720809\n",
      "order 26\n",
      "bundle size: 2\n",
      "bundle size: 3\n",
      "Last Order Time: 2020-04-19 16:53:20.270532\n",
      "Adjusted for time given to driver to pick up order: 2020-04-19 16:58:20.270532\n",
      "------------------------------------------------\n",
      "2020-04-19 17:09:12.270532\n",
      "2020-04-19 17:17:37.270532\n",
      "2020-04-19 17:30:12.270532\n",
      "order 29\n",
      "bundle size: 2\n",
      "bundle size: 3\n",
      "Last Order Time: 2020-04-19 17:10:12.762802\n",
      "Adjusted for time given to driver to pick up order: 2020-04-19 17:15:12.762802\n",
      "------------------------------------------------\n",
      "2020-04-19 17:27:06.762802\n",
      "2020-04-19 17:38:47.762802\n",
      "2020-04-19 17:53:05.762802\n",
      "order 32\n",
      "bundle size: 2\n",
      "bundle size: 3\n",
      "Last Order Time: 2020-04-19 17:18:17.227741\n",
      "Adjusted for time given to driver to pick up order: 2020-04-19 17:23:17.227741\n",
      "------------------------------------------------\n",
      "2020-04-19 17:32:21.227741\n",
      "2020-04-19 17:46:53.227741\n",
      "2020-04-19 18:02:25.227741\n",
      "order 35\n",
      "bundle size: 2\n",
      "bundle size: 3\n",
      "Last Order Time: 2020-04-19 17:27:13.993912\n",
      "Adjusted for time given to driver to pick up order: 2020-04-19 17:32:13.993912\n",
      "------------------------------------------------\n",
      "2020-04-19 17:37:20.993912\n",
      "2020-04-19 17:45:27.993912\n",
      "2020-04-19 18:01:36.993912\n",
      "order 38\n",
      "bundle size: 2\n",
      "bundle size: 3\n",
      "Last Order Time: 2020-04-19 17:30:16.773221\n",
      "Adjusted for time given to driver to pick up order: 2020-04-19 17:35:16.773221\n",
      "------------------------------------------------\n",
      "2020-04-19 17:45:15.773221\n",
      "2020-04-19 17:54:22.773221\n",
      "2020-04-19 18:06:43.773221\n",
      "order 41\n",
      "bundle size: 2\n",
      "bundle size: 3\n",
      "Last Order Time: 2020-04-19 17:41:15.044998\n",
      "Adjusted for time given to driver to pick up order: 2020-04-19 17:46:15.044998\n",
      "------------------------------------------------\n",
      "2020-04-19 17:52:21.044998\n",
      "2020-04-19 18:03:05.044998\n",
      "2020-04-19 18:15:09.044998\n",
      "order 44\n",
      "bundle size: 2\n",
      "bundle size: 3\n",
      "Last Order Time: 2020-04-19 17:54:18.009065\n",
      "Adjusted for time given to driver to pick up order: 2020-04-19 17:59:18.009065\n",
      "------------------------------------------------\n",
      "2020-04-19 18:02:24.009065\n",
      "2020-04-19 18:17:07.009065\n",
      "2020-04-19 18:26:02.009065\n",
      "order 47\n",
      "bundle size: 2\n",
      "bundle size: 3\n",
      "Last Order Time: 2020-04-19 17:58:50.042541\n",
      "Adjusted for time given to driver to pick up order: 2020-04-19 18:03:50.042541\n",
      "------------------------------------------------\n",
      "2020-04-19 18:13:01.042541\n",
      "2020-04-19 18:27:17.042541\n",
      "2020-04-19 18:36:47.042541\n",
      "order 50\n",
      "bundle size: 2\n",
      "bundle size: 3\n",
      "Last Order Time: 2020-04-19 18:23:07.077693\n",
      "Adjusted for time given to driver to pick up order: 2020-04-19 18:28:07.077693\n",
      "------------------------------------------------\n",
      "2020-04-19 18:42:28.077693\n",
      "2020-04-19 18:55:26.077693\n",
      "2020-04-19 19:11:51.077693\n",
      "order 53\n",
      "bundle size: 2\n",
      "bundle size: 3\n",
      "Last Order Time: 2020-04-19 18:29:39.457599\n",
      "Adjusted for time given to driver to pick up order: 2020-04-19 18:34:39.457599\n",
      "------------------------------------------------\n",
      "2020-04-19 18:40:25.457599\n",
      "2020-04-19 18:50:47.457599\n",
      "2020-04-19 19:07:50.457599\n",
      "order 56\n",
      "bundle size: 2\n",
      "bundle size: 3\n",
      "Last Order Time: 2020-04-19 18:36:08.271242\n",
      "Adjusted for time given to driver to pick up order: 2020-04-19 18:41:08.271242\n",
      "------------------------------------------------\n",
      "2020-04-19 18:46:45.271242\n",
      "2020-04-19 19:00:22.271242\n",
      "2020-04-19 19:16:47.271242\n",
      "order 59\n",
      "bundle size: 2\n",
      "bundle size: 3\n",
      "Last Order Time: 2020-04-19 18:38:15.805767\n",
      "Adjusted for time given to driver to pick up order: 2020-04-19 18:43:15.805767\n",
      "------------------------------------------------\n",
      "2020-04-19 18:51:04.805767\n",
      "2020-04-19 19:09:20.805767\n",
      "2020-04-19 19:19:23.805767\n",
      "order 62\n",
      "bundle size: 2\n",
      "bundle size: 3\n",
      "Last Order Time: 2020-04-19 18:47:37.215282\n",
      "Adjusted for time given to driver to pick up order: 2020-04-19 18:52:37.215282\n",
      "------------------------------------------------\n",
      "2020-04-19 19:04:00.215282\n",
      "2020-04-19 19:19:21.215282\n",
      "2020-04-19 19:37:02.215282\n",
      "order 65\n",
      "bundle size: 2\n",
      "bundle size: 3\n",
      "Last Order Time: 2020-04-19 18:55:19.335021\n",
      "Adjusted for time given to driver to pick up order: 2020-04-19 19:00:19.335021\n",
      "------------------------------------------------\n",
      "2020-04-19 19:08:51.335021\n",
      "2020-04-19 19:26:45.335021\n",
      "2020-04-19 19:42:47.335021\n",
      "order 68\n",
      "bundle size: 2\n",
      "bundle size: 3\n",
      "Last Order Time: 2020-04-19 19:05:54.158245\n",
      "Adjusted for time given to driver to pick up order: 2020-04-19 19:10:54.158245\n",
      "------------------------------------------------\n",
      "2020-04-19 19:25:01.158245\n",
      "2020-04-19 19:40:31.158245\n",
      "2020-04-19 19:55:05.158245\n",
      "order 71\n",
      "bundle size: 2\n",
      "bundle size: 3\n",
      "Last Order Time: 2020-04-19 19:19:04.524907\n",
      "Adjusted for time given to driver to pick up order: 2020-04-19 19:24:04.524907\n",
      "------------------------------------------------\n",
      "2020-04-19 19:28:52.524907\n",
      "2020-04-19 19:38:27.524907\n",
      "2020-04-19 19:52:58.524907\n",
      "order 74\n",
      "bundle size: 2\n",
      "bundle size: 3\n",
      "Last Order Time: 2020-04-19 19:34:00.954374\n",
      "Adjusted for time given to driver to pick up order: 2020-04-19 19:39:00.954374\n",
      "------------------------------------------------\n",
      "2020-04-19 19:51:32.954374\n",
      "2020-04-19 20:03:51.954374\n",
      "2020-04-19 20:12:32.954374\n",
      "order 77\n",
      "bundle size: 2\n",
      "bundle size: 3\n",
      "Last Order Time: 2020-04-19 19:37:26.023348\n",
      "Adjusted for time given to driver to pick up order: 2020-04-19 19:42:26.023348\n",
      "------------------------------------------------\n",
      "2020-04-19 19:52:55.023348\n",
      "2020-04-19 20:04:33.023348\n",
      "2020-04-19 20:12:54.023348\n",
      "order 80\n",
      "bundle size: 2\n",
      "bundle size: 3\n",
      "Last Order Time: 2020-04-19 19:52:31.352175\n",
      "Adjusted for time given to driver to pick up order: 2020-04-19 19:57:31.352175\n",
      "------------------------------------------------\n",
      "2020-04-19 20:07:56.352175\n",
      "2020-04-19 20:18:44.352175\n",
      "2020-04-19 20:28:33.352175\n",
      "order 83\n",
      "bundle size: 2\n",
      "bundle size: 3\n",
      "Last Order Time: 2020-04-19 20:11:43.428514\n",
      "Adjusted for time given to driver to pick up order: 2020-04-19 20:16:43.428514\n",
      "------------------------------------------------\n",
      "2020-04-19 20:24:33.428514\n",
      "2020-04-19 20:39:15.428514\n",
      "2020-04-19 20:51:40.428514\n",
      "order 86\n",
      "bundle size: 2\n",
      "bundle size: 3\n",
      "Last Order Time: 2020-04-19 20:19:26.949201\n",
      "Adjusted for time given to driver to pick up order: 2020-04-19 20:24:26.949201\n",
      "------------------------------------------------\n",
      "2020-04-19 20:34:40.949201\n",
      "2020-04-19 20:43:27.949201\n",
      "2020-04-19 20:46:32.949201\n",
      "order 89\n",
      "bundle size: 2\n",
      "bundle size: 3\n"
     ]
    },
    {
     "name": "stdout",
     "output_type": "stream",
     "text": [
      "Last Order Time: 2020-04-19 20:41:26.636525\n",
      "Adjusted for time given to driver to pick up order: 2020-04-19 20:46:26.636525\n",
      "------------------------------------------------\n",
      "2020-04-19 20:56:25.636525\n",
      "2020-04-19 21:11:07.636525\n",
      "2020-04-19 21:20:45.636525\n",
      "order 92\n",
      "bundle size: 2\n",
      "bundle size: 3\n",
      "Last Order Time: 2020-04-19 21:09:58.054618\n",
      "Adjusted for time given to driver to pick up order: 2020-04-19 21:14:58.054618\n",
      "------------------------------------------------\n",
      "2020-04-19 21:24:19.054618\n",
      "2020-04-19 21:39:15.054618\n",
      "2020-04-19 21:49:43.054618\n",
      "order 95\n",
      "bundle size: 2\n",
      "bundle size: 3\n",
      "Last Order Time: 2020-04-19 21:44:06.734676\n",
      "Adjusted for time given to driver to pick up order: 2020-04-19 21:49:06.734676\n",
      "------------------------------------------------\n",
      "2020-04-19 21:54:26.734676\n",
      "2020-04-19 22:06:52.734676\n",
      "2020-04-19 22:15:27.734676\n",
      "order 98\n",
      "bundle size: 2\n",
      "99\n",
      "ya this broke 99\n",
      "Last Order Time: 2020-04-19 22:31:47.613708\n",
      "Adjusted for time given to driver to pick up order: 2020-04-19 22:36:47.613708\n",
      "------------------------------------------------\n",
      "2020-04-19 22:47:25.613708\n",
      "2020-04-19 23:01:23.613708\n"
     ]
    }
   ],
   "source": [
    "bundle_size, met_sla, distance, order_time = run_simulation(100, rd, sample_times, 5, 25)"
   ]
  },
  {
   "cell_type": "code",
   "execution_count": null,
   "metadata": {},
   "outputs": [],
   "source": [
    "bundlesize_iter = [2,3,4,5,6]\n",
    "bundle_time_iter = [15,20,25,30]"
   ]
  },
  {
   "cell_type": "code",
   "execution_count": 638,
   "metadata": {},
   "outputs": [
    {
     "data": {
      "text/plain": [
       "100"
      ]
     },
     "execution_count": 638,
     "metadata": {},
     "output_type": "execute_result"
    }
   ],
   "source": [
    "met_sla"
   ]
  },
  {
   "cell_type": "code",
   "execution_count": 639,
   "metadata": {},
   "outputs": [
    {
     "data": {
      "text/plain": [
       "5191.27"
      ]
     },
     "execution_count": 639,
     "metadata": {},
     "output_type": "execute_result"
    }
   ],
   "source": [
    "np.mean(distance)"
   ]
  },
  {
   "cell_type": "code",
   "execution_count": 640,
   "metadata": {
    "scrolled": true
   },
   "outputs": [
    {
     "data": {
      "text/plain": [
       "31.213800000000003"
      ]
     },
     "execution_count": 640,
     "metadata": {},
     "output_type": "execute_result"
    }
   ],
   "source": [
    "np.mean(order_time)"
   ]
  },
  {
   "cell_type": "code",
   "execution_count": 641,
   "metadata": {},
   "outputs": [
    {
     "data": {
      "text/plain": [
       "<matplotlib.axes._subplots.AxesSubplot at 0x276acf0f630>"
      ]
     },
     "execution_count": 641,
     "metadata": {},
     "output_type": "execute_result"
    },
    {
     "data": {
      "image/png": "[encoded data removed]",
      "text/plain": [
       "<Figure size 432x288 with 1 Axes>"
      ]
     },
     "metadata": {},
     "output_type": "display_data"
    }
   ],
   "source": [
    "sns.distplot(order_time, bins=20)"
   ]
  },
  {
   "cell_type": "code",
   "execution_count": 647,
   "metadata": {},
   "outputs": [
    {
     "data": {
      "text/plain": [
       "95"
      ]
     },
     "execution_count": 647,
     "metadata": {},
     "output_type": "execute_result"
    }
   ],
   "source": [
    "sum([1 if i <= 45 else 0 for i in order_time])"
   ]
  },
  {
   "cell_type": "code",
   "execution_count": 648,
   "metadata": {},
   "outputs": [
    {
     "data": {
      "text/plain": [
       "{'destination_addresses': ['37 Oates Green, Red Deer, AB T4P 1V1, Canada',\n",
       "  '5589 47 St, Red Deer, AB T4N 7C4, Canada',\n",
       "  '4809 34 St, Red Deer, AB T4N 0P2, Canada'],\n",
       " 'origin_addresses': ['4657 62 St, Red Deer, AB T4N 2R4, Canada'],\n",
       " 'rows': [{'elements': [{'distance': {'text': '3.1 km', 'value': 3075},\n",
       "     'duration': {'text': '7 mins', 'value': 390},\n",
       "     'status': 'OK'},\n",
       "    {'distance': {'text': '3.5 km', 'value': 3493},\n",
       "     'duration': {'text': '8 mins', 'value': 494},\n",
       "     'status': 'OK'},\n",
       "    {'distance': {'text': '4.3 km', 'value': 4315},\n",
       "     'duration': {'text': '9 mins', 'value': 539},\n",
       "     'status': 'OK'}]}],\n",
       " 'status': 'OK'}"
      ]
     },
     "execution_count": 648,
     "metadata": {},
     "output_type": "execute_result"
    }
   ],
   "source": [
    "test"
   ]
  },
  {
   "cell_type": "code",
   "execution_count": 631,
   "metadata": {},
   "outputs": [
    {
     "data": {
      "text/html": [
       "<div>\n",
       "<style scoped>\n",
       "    .dataframe tbody tr th:only-of-type {\n",
       "        vertical-align: middle;\n",
       "    }\n",
       "\n",
       "    .dataframe tbody tr th {\n",
       "        vertical-align: top;\n",
       "    }\n",
       "\n",
       "    .dataframe thead th {\n",
       "        text-align: right;\n",
       "    }\n",
       "</style>\n",
       "<table border=\"1\" class=\"dataframe\">\n",
       "  <thead>\n",
       "    <tr style=\"text-align: right;\">\n",
       "      <th></th>\n",
       "      <th>LAT</th>\n",
       "      <th>LON</th>\n",
       "    </tr>\n",
       "  </thead>\n",
       "  <tbody>\n",
       "    <tr>\n",
       "      <th>46306</th>\n",
       "      <td>52.303034</td>\n",
       "      <td>-113.839764</td>\n",
       "    </tr>\n",
       "    <tr>\n",
       "      <th>21300</th>\n",
       "      <td>52.267205</td>\n",
       "      <td>-113.764245</td>\n",
       "    </tr>\n",
       "    <tr>\n",
       "      <th>3696</th>\n",
       "      <td>52.254125</td>\n",
       "      <td>-113.747339</td>\n",
       "    </tr>\n",
       "  </tbody>\n",
       "</table>\n",
       "</div>"
      ],
      "text/plain": [
       "             LAT         LON\n",
       "46306  52.303034 -113.839764\n",
       "21300  52.267205 -113.764245\n",
       "3696   52.254125 -113.747339"
      ]
     },
     "execution_count": 631,
     "metadata": {},
     "output_type": "execute_result"
    }
   ],
   "source": [
    "rd[['LAT', 'LON']].sample(n=3)"
   ]
  },
  {
   "cell_type": "code",
   "execution_count": 609,
   "metadata": {},
   "outputs": [
    {
     "data": {
      "text/plain": [
       "array([datetime.datetime(2020, 4, 19, 13, 49, 53, 678514),\n",
       "       datetime.datetime(2020, 4, 19, 14, 6, 46, 496420)], dtype=object)"
      ]
     },
     "execution_count": 609,
     "metadata": {},
     "output_type": "execute_result"
    }
   ],
   "source": [
    "sample_times[0:2]"
   ]
  },
  {
   "cell_type": "code",
   "execution_count": 539,
   "metadata": {},
   "outputs": [
    {
     "data": {
      "text/plain": [
       "[2]"
      ]
     },
     "execution_count": 539,
     "metadata": {},
     "output_type": "execute_result"
    }
   ],
   "source": [
    "bundle_size, met_sla, distance, order_time = run_simulation(100, rd, sample_times, 5, 15)"
   ]
  },
  {
   "cell_type": "code",
   "execution_count": 600,
   "metadata": {},
   "outputs": [
    {
     "data": {
      "image/png": "[encoded data removed]",
      "text/plain": [
       "<Figure size 432x288 with 1 Axes>"
      ]
     },
     "metadata": {},
     "output_type": "display_data"
    }
   ],
   "source": [
    "plt.plot(bundle_size)\n",
    "plt.ylabel('# of orders in bundle')\n",
    "plt.xlabel('time')\n",
    "plt.title('Bundled Orders over Time')\n",
    "plt.show()"
   ]
  },
  {
   "cell_type": "code",
   "execution_count": null,
   "metadata": {},
   "outputs": [],
   "source": []
  },
  {
   "cell_type": "code",
   "execution_count": null,
   "metadata": {},
   "outputs": [],
   "source": []
  },
  {
   "cell_type": "code",
   "execution_count": null,
   "metadata": {},
   "outputs": [],
   "source": []
  },
  {
   "cell_type": "code",
   "execution_count": 30,
   "metadata": {},
   "outputs": [],
   "source": [
    "# Max orders in an bundle timeframe****\n",
    "# Avg bundle size\n",
    "# Avg order trip time\n",
    "# # of orders above sla\n",
    "# Add a variable for driver to get to warehouse - 15 minutes\n",
    "# Add a variable - Time per dropoff (1 to 2 min)\n",
    "# Add a variable for bundles (20-30 min)\n",
    "# Add a variable for $4 delivery\n",
    "# Don't split bundles depending on wherea they are\n",
    "# Add time variable to google api"
   ]
  },
  {
   "cell_type": "code",
   "execution_count": null,
   "metadata": {},
   "outputs": [],
   "source": []
  }
 ],
 "metadata": {
  "kernelspec": {
   "display_name": "Python 3",
   "language": "python",
   "name": "python3"
  },
  "language_info": {
   "codemirror_mode": {
    "name": "ipython",
    "version": 3
   },
   "file_extension": ".py",
   "mimetype": "text/x-python",
   "name": "python",
   "nbconvert_exporter": "python",
   "pygments_lexer": "ipython3",
   "version": "3.7.4"
  }
 },
 "nbformat": 4,
 "nbformat_minor": 2
}
