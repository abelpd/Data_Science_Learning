{
 "cells": [
  {
   "cell_type": "code",
   "execution_count": 1,
   "metadata": {},
   "outputs": [],
   "source": [
    "from API_KEY import api_key\n",
    "import googlemaps\n",
    "import requests\n",
    "import json\n",
    "import pandas as pd\n",
    "import os\n",
    "import gmplot"
   ]
  },
  {
   "cell_type": "code",
   "execution_count": 2,
   "metadata": {},
   "outputs": [],
   "source": [
    "api = api_key()"
   ]
  },
  {
   "cell_type": "code",
   "execution_count": 3,
   "metadata": {},
   "outputs": [],
   "source": [
    "gmaps = googlemaps.Client(key=api_key())"
   ]
  },
  {
   "cell_type": "code",
   "execution_count": 4,
   "metadata": {},
   "outputs": [],
   "source": [
    "#warehouse location\n",
    "#4657 62 Street"
   ]
  },
  {
   "cell_type": "code",
   "execution_count": 17,
   "metadata": {},
   "outputs": [
    {
     "data": {
      "text/plain": [
       "'C:\\\\Users\\\\abelp\\\\Desktop\\\\liquor\\\\driver_model'"
      ]
     },
     "execution_count": 17,
     "metadata": {},
     "output_type": "execute_result"
    }
   ],
   "source": [
    "os.getcwd()"
   ]
  },
  {
   "cell_type": "code",
   "execution_count": 18,
   "metadata": {},
   "outputs": [],
   "source": [
    "location_ = os.getcwd() + '\\\\address_data\\\\ca\\\\ab\\\\city_of_red_deer.csv'"
   ]
  },
  {
   "cell_type": "code",
   "execution_count": 25,
   "metadata": {},
   "outputs": [],
   "source": [
    "rd = pd.read_csv(location_)"
   ]
  },
  {
   "cell_type": "code",
   "execution_count": 26,
   "metadata": {},
   "outputs": [
    {
     "data": {
      "text/html": [
       "<div>\n",
       "<style scoped>\n",
       "    .dataframe tbody tr th:only-of-type {\n",
       "        vertical-align: middle;\n",
       "    }\n",
       "\n",
       "    .dataframe tbody tr th {\n",
       "        vertical-align: top;\n",
       "    }\n",
       "\n",
       "    .dataframe thead th {\n",
       "        text-align: right;\n",
       "    }\n",
       "</style>\n",
       "<table border=\"1\" class=\"dataframe\">\n",
       "  <thead>\n",
       "    <tr style=\"text-align: right;\">\n",
       "      <th></th>\n",
       "      <th>LON</th>\n",
       "      <th>LAT</th>\n",
       "      <th>NUMBER</th>\n",
       "      <th>STREET</th>\n",
       "      <th>UNIT</th>\n",
       "      <th>CITY</th>\n",
       "      <th>DISTRICT</th>\n",
       "      <th>REGION</th>\n",
       "      <th>POSTCODE</th>\n",
       "      <th>ID</th>\n",
       "      <th>HASH</th>\n",
       "    </tr>\n",
       "  </thead>\n",
       "  <tbody>\n",
       "    <tr>\n",
       "      <th>0</th>\n",
       "      <td>-113.769562</td>\n",
       "      <td>52.244131</td>\n",
       "      <td>1</td>\n",
       "      <td>ABEL CL</td>\n",
       "      <td>NaN</td>\n",
       "      <td>NaN</td>\n",
       "      <td>NaN</td>\n",
       "      <td>NaN</td>\n",
       "      <td>NaN</td>\n",
       "      <td>NaN</td>\n",
       "      <td>337be5934703dd63</td>\n",
       "    </tr>\n",
       "    <tr>\n",
       "      <th>1</th>\n",
       "      <td>-113.783018</td>\n",
       "      <td>52.242337</td>\n",
       "      <td>1</td>\n",
       "      <td>AINSWORTH CR</td>\n",
       "      <td>NaN</td>\n",
       "      <td>NaN</td>\n",
       "      <td>NaN</td>\n",
       "      <td>NaN</td>\n",
       "      <td>NaN</td>\n",
       "      <td>NaN</td>\n",
       "      <td>663543b88ab20de2</td>\n",
       "    </tr>\n",
       "    <tr>\n",
       "      <th>2</th>\n",
       "      <td>-113.771100</td>\n",
       "      <td>52.249808</td>\n",
       "      <td>1</td>\n",
       "      <td>ALEXANDER CR</td>\n",
       "      <td>NaN</td>\n",
       "      <td>NaN</td>\n",
       "      <td>NaN</td>\n",
       "      <td>NaN</td>\n",
       "      <td>NaN</td>\n",
       "      <td>NaN</td>\n",
       "      <td>158228bbdb9cbbac</td>\n",
       "    </tr>\n",
       "    <tr>\n",
       "      <th>3</th>\n",
       "      <td>-113.789997</td>\n",
       "      <td>52.247050</td>\n",
       "      <td>1</td>\n",
       "      <td>ALLAN ST</td>\n",
       "      <td>NaN</td>\n",
       "      <td>NaN</td>\n",
       "      <td>NaN</td>\n",
       "      <td>NaN</td>\n",
       "      <td>NaN</td>\n",
       "      <td>NaN</td>\n",
       "      <td>c8c24953c455462f</td>\n",
       "    </tr>\n",
       "    <tr>\n",
       "      <th>4</th>\n",
       "      <td>-113.785442</td>\n",
       "      <td>52.244930</td>\n",
       "      <td>1</td>\n",
       "      <td>ALLSOP AV</td>\n",
       "      <td>NaN</td>\n",
       "      <td>NaN</td>\n",
       "      <td>NaN</td>\n",
       "      <td>NaN</td>\n",
       "      <td>NaN</td>\n",
       "      <td>NaN</td>\n",
       "      <td>b011678dae9236b5</td>\n",
       "    </tr>\n",
       "    <tr>\n",
       "      <th>...</th>\n",
       "      <td>...</td>\n",
       "      <td>...</td>\n",
       "      <td>...</td>\n",
       "      <td>...</td>\n",
       "      <td>...</td>\n",
       "      <td>...</td>\n",
       "      <td>...</td>\n",
       "      <td>...</td>\n",
       "      <td>...</td>\n",
       "      <td>...</td>\n",
       "      <td>...</td>\n",
       "    </tr>\n",
       "    <tr>\n",
       "      <th>55065</th>\n",
       "      <td>-113.808717</td>\n",
       "      <td>52.264765</td>\n",
       "      <td>4501</td>\n",
       "      <td>48 AV</td>\n",
       "      <td>610</td>\n",
       "      <td>NaN</td>\n",
       "      <td>NaN</td>\n",
       "      <td>NaN</td>\n",
       "      <td>NaN</td>\n",
       "      <td>NaN</td>\n",
       "      <td>de5ffc7478b7bc2e</td>\n",
       "    </tr>\n",
       "    <tr>\n",
       "      <th>55066</th>\n",
       "      <td>-113.808725</td>\n",
       "      <td>52.264958</td>\n",
       "      <td>4501</td>\n",
       "      <td>48 AV</td>\n",
       "      <td>613</td>\n",
       "      <td>NaN</td>\n",
       "      <td>NaN</td>\n",
       "      <td>NaN</td>\n",
       "      <td>NaN</td>\n",
       "      <td>NaN</td>\n",
       "      <td>8cf4dcbdbf3beb01</td>\n",
       "    </tr>\n",
       "    <tr>\n",
       "      <th>55067</th>\n",
       "      <td>-113.808729</td>\n",
       "      <td>52.265041</td>\n",
       "      <td>4501</td>\n",
       "      <td>48 AV</td>\n",
       "      <td>614</td>\n",
       "      <td>NaN</td>\n",
       "      <td>NaN</td>\n",
       "      <td>NaN</td>\n",
       "      <td>NaN</td>\n",
       "      <td>NaN</td>\n",
       "      <td>fe682c3c179d1937</td>\n",
       "    </tr>\n",
       "    <tr>\n",
       "      <th>55068</th>\n",
       "      <td>-113.808483</td>\n",
       "      <td>52.265046</td>\n",
       "      <td>4501</td>\n",
       "      <td>48 AV</td>\n",
       "      <td>615</td>\n",
       "      <td>NaN</td>\n",
       "      <td>NaN</td>\n",
       "      <td>NaN</td>\n",
       "      <td>NaN</td>\n",
       "      <td>NaN</td>\n",
       "      <td>3951807fc70b91cf</td>\n",
       "    </tr>\n",
       "    <tr>\n",
       "      <th>55069</th>\n",
       "      <td>-113.808488</td>\n",
       "      <td>52.264970</td>\n",
       "      <td>4501</td>\n",
       "      <td>48 AV</td>\n",
       "      <td>616</td>\n",
       "      <td>NaN</td>\n",
       "      <td>NaN</td>\n",
       "      <td>NaN</td>\n",
       "      <td>NaN</td>\n",
       "      <td>NaN</td>\n",
       "      <td>2677e71a5b600e83</td>\n",
       "    </tr>\n",
       "  </tbody>\n",
       "</table>\n",
       "<p>55070 rows × 11 columns</p>\n",
       "</div>"
      ],
      "text/plain": [
       "              LON        LAT NUMBER        STREET UNIT  CITY  DISTRICT  \\\n",
       "0     -113.769562  52.244131      1       ABEL CL  NaN   NaN       NaN   \n",
       "1     -113.783018  52.242337      1  AINSWORTH CR  NaN   NaN       NaN   \n",
       "2     -113.771100  52.249808      1  ALEXANDER CR  NaN   NaN       NaN   \n",
       "3     -113.789997  52.247050      1      ALLAN ST  NaN   NaN       NaN   \n",
       "4     -113.785442  52.244930      1     ALLSOP AV  NaN   NaN       NaN   \n",
       "...           ...        ...    ...           ...  ...   ...       ...   \n",
       "55065 -113.808717  52.264765   4501         48 AV  610   NaN       NaN   \n",
       "55066 -113.808725  52.264958   4501         48 AV  613   NaN       NaN   \n",
       "55067 -113.808729  52.265041   4501         48 AV  614   NaN       NaN   \n",
       "55068 -113.808483  52.265046   4501         48 AV  615   NaN       NaN   \n",
       "55069 -113.808488  52.264970   4501         48 AV  616   NaN       NaN   \n",
       "\n",
       "       REGION  POSTCODE  ID              HASH  \n",
       "0         NaN       NaN NaN  337be5934703dd63  \n",
       "1         NaN       NaN NaN  663543b88ab20de2  \n",
       "2         NaN       NaN NaN  158228bbdb9cbbac  \n",
       "3         NaN       NaN NaN  c8c24953c455462f  \n",
       "4         NaN       NaN NaN  b011678dae9236b5  \n",
       "...       ...       ...  ..               ...  \n",
       "55065     NaN       NaN NaN  de5ffc7478b7bc2e  \n",
       "55066     NaN       NaN NaN  8cf4dcbdbf3beb01  \n",
       "55067     NaN       NaN NaN  fe682c3c179d1937  \n",
       "55068     NaN       NaN NaN  3951807fc70b91cf  \n",
       "55069     NaN       NaN NaN  2677e71a5b600e83  \n",
       "\n",
       "[55070 rows x 11 columns]"
      ]
     },
     "execution_count": 26,
     "metadata": {},
     "output_type": "execute_result"
    }
   ],
   "source": [
    "rd"
   ]
  },
  {
   "cell_type": "code",
   "execution_count": null,
   "metadata": {},
   "outputs": [],
   "source": []
  },
  {
   "cell_type": "code",
   "execution_count": null,
   "metadata": {},
   "outputs": [],
   "source": [
    "def run_simulation(orders=num_orders, rd):\n",
    "    "
   ]
  },
  {
   "cell_type": "code",
   "execution_count": null,
   "metadata": {},
   "outputs": [],
   "source": []
  },
  {
   "cell_type": "code",
   "execution_count": null,
   "metadata": {},
   "outputs": [],
   "source": []
  },
  {
   "cell_type": "code",
   "execution_count": null,
   "metadata": {},
   "outputs": [],
   "source": []
  },
  {
   "cell_type": "code",
   "execution_count": null,
   "metadata": {},
   "outputs": [],
   "source": []
  },
  {
   "cell_type": "code",
   "execution_count": 21,
   "metadata": {},
   "outputs": [],
   "source": [
    "test_directions = gmaps.distance_matrix(origins=(52.283877, -113.807013), destinations=(52.285842,-113.7686521), mode='driving')"
   ]
  },
  {
   "cell_type": "code",
   "execution_count": 22,
   "metadata": {},
   "outputs": [
    {
     "data": {
      "text/plain": [
       "{'destination_addresses': ['5 Clearview Market Way, Red Deer, AB T4P 0M9, Canada'],\n",
       " 'origin_addresses': ['4657 62 St, Red Deer, AB T4N 2R4, Canada'],\n",
       " 'rows': [{'elements': [{'distance': {'text': '3.8 km', 'value': 3825},\n",
       "     'duration': {'text': '6 mins', 'value': 354},\n",
       "     'status': 'OK'}]}],\n",
       " 'status': 'OK'}"
      ]
     },
     "execution_count": 22,
     "metadata": {},
     "output_type": "execute_result"
    }
   ],
   "source": [
    "test_directions"
   ]
  },
  {
   "cell_type": "code",
   "execution_count": 35,
   "metadata": {},
   "outputs": [
    {
     "data": {
      "text/html": [
       "<div>\n",
       "<style scoped>\n",
       "    .dataframe tbody tr th:only-of-type {\n",
       "        vertical-align: middle;\n",
       "    }\n",
       "\n",
       "    .dataframe tbody tr th {\n",
       "        vertical-align: top;\n",
       "    }\n",
       "\n",
       "    .dataframe thead th {\n",
       "        text-align: right;\n",
       "    }\n",
       "</style>\n",
       "<table border=\"1\" class=\"dataframe\">\n",
       "  <thead>\n",
       "    <tr style=\"text-align: right;\">\n",
       "      <th></th>\n",
       "      <th>LON</th>\n",
       "      <th>LAT</th>\n",
       "    </tr>\n",
       "  </thead>\n",
       "  <tbody>\n",
       "    <tr>\n",
       "      <th>25937</th>\n",
       "      <td>-113.818707</td>\n",
       "      <td>52.287620</td>\n",
       "    </tr>\n",
       "    <tr>\n",
       "      <th>26854</th>\n",
       "      <td>-113.824058</td>\n",
       "      <td>52.261046</td>\n",
       "    </tr>\n",
       "    <tr>\n",
       "      <th>44670</th>\n",
       "      <td>-113.829194</td>\n",
       "      <td>52.249322</td>\n",
       "    </tr>\n",
       "    <tr>\n",
       "      <th>49699</th>\n",
       "      <td>-113.778652</td>\n",
       "      <td>52.285757</td>\n",
       "    </tr>\n",
       "    <tr>\n",
       "      <th>53193</th>\n",
       "      <td>-113.752799</td>\n",
       "      <td>52.238143</td>\n",
       "    </tr>\n",
       "    <tr>\n",
       "      <th>...</th>\n",
       "      <td>...</td>\n",
       "      <td>...</td>\n",
       "    </tr>\n",
       "    <tr>\n",
       "      <th>8912</th>\n",
       "      <td>-113.825304</td>\n",
       "      <td>52.252736</td>\n",
       "    </tr>\n",
       "    <tr>\n",
       "      <th>39289</th>\n",
       "      <td>-113.751795</td>\n",
       "      <td>52.245171</td>\n",
       "    </tr>\n",
       "    <tr>\n",
       "      <th>16839</th>\n",
       "      <td>-113.820902</td>\n",
       "      <td>52.274376</td>\n",
       "    </tr>\n",
       "    <tr>\n",
       "      <th>13248</th>\n",
       "      <td>-113.791567</td>\n",
       "      <td>52.263668</td>\n",
       "    </tr>\n",
       "    <tr>\n",
       "      <th>23169</th>\n",
       "      <td>-113.768557</td>\n",
       "      <td>52.261609</td>\n",
       "    </tr>\n",
       "  </tbody>\n",
       "</table>\n",
       "<p>100 rows × 2 columns</p>\n",
       "</div>"
      ],
      "text/plain": [
       "              LON        LAT\n",
       "25937 -113.818707  52.287620\n",
       "26854 -113.824058  52.261046\n",
       "44670 -113.829194  52.249322\n",
       "49699 -113.778652  52.285757\n",
       "53193 -113.752799  52.238143\n",
       "...           ...        ...\n",
       "8912  -113.825304  52.252736\n",
       "39289 -113.751795  52.245171\n",
       "16839 -113.820902  52.274376\n",
       "13248 -113.791567  52.263668\n",
       "23169 -113.768557  52.261609\n",
       "\n",
       "[100 rows x 2 columns]"
      ]
     },
     "execution_count": 35,
     "metadata": {},
     "output_type": "execute_result"
    }
   ],
   "source": [
    "rd[['LON', 'LAT']].sample(n=100)"
   ]
  },
  {
   "cell_type": "code",
   "execution_count": null,
   "metadata": {},
   "outputs": [],
   "source": []
  },
  {
   "cell_type": "code",
   "execution_count": null,
   "metadata": {},
   "outputs": [],
   "source": []
  },
  {
   "cell_type": "code",
   "execution_count": null,
   "metadata": {},
   "outputs": [],
   "source": []
  },
  {
   "cell_type": "code",
   "execution_count": null,
   "metadata": {},
   "outputs": [],
   "source": []
  },
  {
   "cell_type": "code",
   "execution_count": null,
   "metadata": {},
   "outputs": [],
   "source": []
  },
  {
   "cell_type": "code",
   "execution_count": null,
   "metadata": {},
   "outputs": [],
   "source": []
  },
  {
   "cell_type": "code",
   "execution_count": null,
   "metadata": {},
   "outputs": [],
   "source": []
  },
  {
   "cell_type": "code",
   "execution_count": null,
   "metadata": {},
   "outputs": [],
   "source": []
  }
 ],
 "metadata": {
  "kernelspec": {
   "display_name": "Python 3",
   "language": "python",
   "name": "python3"
  },
  "language_info": {
   "codemirror_mode": {
    "name": "ipython",
    "version": 3
   },
   "file_extension": ".py",
   "mimetype": "text/x-python",
   "name": "python",
   "nbconvert_exporter": "python",
   "pygments_lexer": "ipython3",
   "version": "3.6.10"
  }
 },
 "nbformat": 4,
 "nbformat_minor": 2
}
