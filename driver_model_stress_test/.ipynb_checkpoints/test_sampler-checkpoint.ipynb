{
 "cells": [
  {
   "cell_type": "code",
   "execution_count": 1,
   "metadata": {},
   "outputs": [],
   "source": [
    "import pymc3 as pm\n",
    "import numpy as np\n",
    "import pandas as pd\n",
    "import matplotlib.pyplot as plt\n",
    "import seaborn as sns\n",
    "plt.style.use('seaborn-darkgrid')\n",
    "from scipy import stats\n",
    "import os\n",
    "from scipy.stats import invgamma\n",
    "import math"
   ]
  },
  {
   "cell_type": "code",
   "execution_count": 4,
   "metadata": {},
   "outputs": [],
   "source": [
    "def generate_beta_dist():\n",
    "    dist = np.random.beta(4, 4, size=1000000)\n",
    "    return(dist)\n",
    "\n",
    "def convert_to_minutes(start, end):\n",
    "    beg_minutes = start * 60\n",
    "    end_minutes = end * 60\n",
    "    return beg_minutes, end_minutes\n",
    "\n",
    "def f(minutes):\n",
    "    a = minutes // 60\n",
    "    b = minutes % 60\n",
    "    return [a,b]"
   ]
  },
  {
   "cell_type": "code",
   "execution_count": 16,
   "metadata": {},
   "outputs": [],
   "source": [
    "class sample_time():\n",
    "    def __init__(self, beg_time, end_time, distribution, order_per_day):\n",
    "        self.beg_time = beg_time\n",
    "        self.end_time = end_time\n",
    "        \n",
    "        self.daypart = end_time - beg_time\n",
    "        \n",
    "        self.distribution = distribution\n",
    "        self.order_per_day = order_per_day\n",
    "        \n",
    "    def change_in_time(self):\n",
    "        print (self.end_time - self.beg_time)\n",
    "        \n",
    "    def sample_distribution(self):\n",
    "        return np.random.choice(self.distribution, size=self.order_per_day, replace=True)\n",
    "    \n",
    "    def create_order_times(self):\n",
    "        order_times = self.sample_distribution()\n",
    "        \n",
    "        order_times = order_times * self.daypart\n",
    "        \n",
    "        return (order_times)\n",
    "        \n",
    "        #'{:02d}:{:02d}'.format(*divmod(minutes, 60))"
   ]
  }
 ],
 "metadata": {
  "kernelspec": {
   "display_name": "Python 3",
   "language": "python",
   "name": "python3"
  },
  "language_info": {
   "codemirror_mode": {
    "name": "ipython",
    "version": 3
   },
   "file_extension": ".py",
   "mimetype": "text/x-python",
   "name": "python",
   "nbconvert_exporter": "python",
   "pygments_lexer": "ipython3",
   "version": "3.6.10"
  }
 },
 "nbformat": 4,
 "nbformat_minor": 4
}
